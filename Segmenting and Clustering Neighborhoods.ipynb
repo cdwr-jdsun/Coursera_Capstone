{
 "cells": [
  {
   "cell_type": "markdown",
   "metadata": {},
   "source": [
    "## Data Science Capstone Week 3 Assignment: Segmenting and Clustering Neighborhoods in Toronto"
   ]
  },
  {
   "cell_type": "code",
   "execution_count": 1,
   "metadata": {},
   "outputs": [],
   "source": [
    "import requests\n",
    "import pandas as pd\n",
    "import numpy as np\n",
    "from bs4 import BeautifulSoup\n",
    "import geocoder\n",
    "from geopy.geocoders import Nominatim\n",
    "import folium\n",
    "from sklearn.cluster import KMeans\n",
    "import matplotlib.cm as cm\n",
    "import matplotlib.colors as colors\n",
    "import warnings\n",
    "warnings.filterwarnings('ignore')"
   ]
  },
  {
   "cell_type": "markdown",
   "metadata": {},
   "source": [
    "#### Using BeautifulSoup to parse the Wiki table. There's some SSL problems on my network so I need to use verify=False."
   ]
  },
  {
   "cell_type": "code",
   "execution_count": 2,
   "metadata": {},
   "outputs": [],
   "source": [
    "url = r'https://en.wikipedia.org/wiki/List_of_postal_codes_of_Canada:_M'\n",
    "text = requests.get(url, verify=False).text\n",
    "soup = BeautifulSoup(text, 'lxml')"
   ]
  },
  {
   "cell_type": "markdown",
   "metadata": {},
   "source": [
    "#### Get all the table rows with no headers and strip newlines. I'll process the raw table as a dataframe."
   ]
  },
  {
   "cell_type": "code",
   "execution_count": 3,
   "metadata": {},
   "outputs": [],
   "source": [
    "table = soup.find('table', {'class':'wikitable sortable'})\n",
    "table_rows = []\n",
    "\n",
    "for items in table.find_all('tr'):\n",
    "    data = items.find_all('td')\n",
    "    \n",
    "    try:\n",
    "        postal = data[0].text.strip()\n",
    "        borough = data[1].text.strip()\n",
    "        neigh = data[2].text.strip()\n",
    "        table_rows.append([postal, borough, neigh])\n",
    "    except IndexError:\n",
    "        pass\n",
    "    \n",
    "raw_table_df = pd.DataFrame(table_rows)\n",
    "raw_table_df.columns = ['PostalCode', 'Borough', 'Neighborhood']"
   ]
  },
  {
   "cell_type": "markdown",
   "metadata": {},
   "source": [
    "#### Process all 'not assigned' values accordingly, get rid of duplicates and join neighborhoods in the same PostalCode/Borough with a comma."
   ]
  },
  {
   "cell_type": "code",
   "execution_count": 4,
   "metadata": {},
   "outputs": [],
   "source": [
    "df = raw_table_df[raw_table_df['Borough'] != 'Not assigned']\n",
    "\n",
    "for index, row in df.iterrows():\n",
    "    if row['Neighborhood'] == 'Not assigned':\n",
    "        row['Neighborhood'] = row['Borough']\n",
    "    \n",
    "df = df.drop_duplicates()\n",
    "df = df.groupby(['PostalCode', 'Borough'])['Neighborhood'].apply(', '.join).reset_index()"
   ]
  },
  {
   "cell_type": "code",
   "execution_count": 5,
   "metadata": {},
   "outputs": [
    {
     "data": {
      "text/html": [
       "<div>\n",
       "<style scoped>\n",
       "    .dataframe tbody tr th:only-of-type {\n",
       "        vertical-align: middle;\n",
       "    }\n",
       "\n",
       "    .dataframe tbody tr th {\n",
       "        vertical-align: top;\n",
       "    }\n",
       "\n",
       "    .dataframe thead th {\n",
       "        text-align: right;\n",
       "    }\n",
       "</style>\n",
       "<table border=\"1\" class=\"dataframe\">\n",
       "  <thead>\n",
       "    <tr style=\"text-align: right;\">\n",
       "      <th></th>\n",
       "      <th>PostalCode</th>\n",
       "      <th>Borough</th>\n",
       "      <th>Neighborhood</th>\n",
       "    </tr>\n",
       "  </thead>\n",
       "  <tbody>\n",
       "    <tr>\n",
       "      <th>0</th>\n",
       "      <td>M1B</td>\n",
       "      <td>Scarborough</td>\n",
       "      <td>Rouge, Malvern</td>\n",
       "    </tr>\n",
       "    <tr>\n",
       "      <th>1</th>\n",
       "      <td>M1C</td>\n",
       "      <td>Scarborough</td>\n",
       "      <td>Highland Creek, Rouge Hill, Port Union</td>\n",
       "    </tr>\n",
       "    <tr>\n",
       "      <th>2</th>\n",
       "      <td>M1E</td>\n",
       "      <td>Scarborough</td>\n",
       "      <td>Guildwood, Morningside, West Hill</td>\n",
       "    </tr>\n",
       "    <tr>\n",
       "      <th>3</th>\n",
       "      <td>M1G</td>\n",
       "      <td>Scarborough</td>\n",
       "      <td>Woburn</td>\n",
       "    </tr>\n",
       "    <tr>\n",
       "      <th>4</th>\n",
       "      <td>M1H</td>\n",
       "      <td>Scarborough</td>\n",
       "      <td>Cedarbrae</td>\n",
       "    </tr>\n",
       "  </tbody>\n",
       "</table>\n",
       "</div>"
      ],
      "text/plain": [
       "  PostalCode      Borough                            Neighborhood\n",
       "0        M1B  Scarborough                          Rouge, Malvern\n",
       "1        M1C  Scarborough  Highland Creek, Rouge Hill, Port Union\n",
       "2        M1E  Scarborough       Guildwood, Morningside, West Hill\n",
       "3        M1G  Scarborough                                  Woburn\n",
       "4        M1H  Scarborough                               Cedarbrae"
      ]
     },
     "execution_count": 5,
     "metadata": {},
     "output_type": "execute_result"
    }
   ],
   "source": [
    "df.head()"
   ]
  },
  {
   "cell_type": "code",
   "execution_count": 6,
   "metadata": {},
   "outputs": [
    {
     "data": {
      "text/plain": [
       "(103, 3)"
      ]
     },
     "execution_count": 6,
     "metadata": {},
     "output_type": "execute_result"
    }
   ],
   "source": [
    "df.shape"
   ]
  },
  {
   "cell_type": "markdown",
   "metadata": {},
   "source": [
    "## Q2: Coordinates"
   ]
  },
  {
   "cell_type": "code",
   "execution_count": 7,
   "metadata": {},
   "outputs": [],
   "source": [
    "coords_df = pd.read_csv('Geospatial_Coordinates.csv')\n",
    "coords_df = coords_df.rename(columns={'Postal Code': 'PostalCode'})\n",
    "df = df.merge(coords_df, on='PostalCode')"
   ]
  },
  {
   "cell_type": "code",
   "execution_count": 8,
   "metadata": {},
   "outputs": [
    {
     "data": {
      "text/html": [
       "<div>\n",
       "<style scoped>\n",
       "    .dataframe tbody tr th:only-of-type {\n",
       "        vertical-align: middle;\n",
       "    }\n",
       "\n",
       "    .dataframe tbody tr th {\n",
       "        vertical-align: top;\n",
       "    }\n",
       "\n",
       "    .dataframe thead th {\n",
       "        text-align: right;\n",
       "    }\n",
       "</style>\n",
       "<table border=\"1\" class=\"dataframe\">\n",
       "  <thead>\n",
       "    <tr style=\"text-align: right;\">\n",
       "      <th></th>\n",
       "      <th>PostalCode</th>\n",
       "      <th>Borough</th>\n",
       "      <th>Neighborhood</th>\n",
       "      <th>Latitude</th>\n",
       "      <th>Longitude</th>\n",
       "    </tr>\n",
       "  </thead>\n",
       "  <tbody>\n",
       "    <tr>\n",
       "      <th>0</th>\n",
       "      <td>M1B</td>\n",
       "      <td>Scarborough</td>\n",
       "      <td>Rouge, Malvern</td>\n",
       "      <td>43.806686</td>\n",
       "      <td>-79.194353</td>\n",
       "    </tr>\n",
       "    <tr>\n",
       "      <th>1</th>\n",
       "      <td>M1C</td>\n",
       "      <td>Scarborough</td>\n",
       "      <td>Highland Creek, Rouge Hill, Port Union</td>\n",
       "      <td>43.784535</td>\n",
       "      <td>-79.160497</td>\n",
       "    </tr>\n",
       "    <tr>\n",
       "      <th>2</th>\n",
       "      <td>M1E</td>\n",
       "      <td>Scarborough</td>\n",
       "      <td>Guildwood, Morningside, West Hill</td>\n",
       "      <td>43.763573</td>\n",
       "      <td>-79.188711</td>\n",
       "    </tr>\n",
       "    <tr>\n",
       "      <th>3</th>\n",
       "      <td>M1G</td>\n",
       "      <td>Scarborough</td>\n",
       "      <td>Woburn</td>\n",
       "      <td>43.770992</td>\n",
       "      <td>-79.216917</td>\n",
       "    </tr>\n",
       "    <tr>\n",
       "      <th>4</th>\n",
       "      <td>M1H</td>\n",
       "      <td>Scarborough</td>\n",
       "      <td>Cedarbrae</td>\n",
       "      <td>43.773136</td>\n",
       "      <td>-79.239476</td>\n",
       "    </tr>\n",
       "  </tbody>\n",
       "</table>\n",
       "</div>"
      ],
      "text/plain": [
       "  PostalCode      Borough                            Neighborhood   Latitude  \\\n",
       "0        M1B  Scarborough                          Rouge, Malvern  43.806686   \n",
       "1        M1C  Scarborough  Highland Creek, Rouge Hill, Port Union  43.784535   \n",
       "2        M1E  Scarborough       Guildwood, Morningside, West Hill  43.763573   \n",
       "3        M1G  Scarborough                                  Woburn  43.770992   \n",
       "4        M1H  Scarborough                               Cedarbrae  43.773136   \n",
       "\n",
       "   Longitude  \n",
       "0 -79.194353  \n",
       "1 -79.160497  \n",
       "2 -79.188711  \n",
       "3 -79.216917  \n",
       "4 -79.239476  "
      ]
     },
     "execution_count": 8,
     "metadata": {},
     "output_type": "execute_result"
    }
   ],
   "source": [
    "df.head()"
   ]
  },
  {
   "cell_type": "code",
   "execution_count": 9,
   "metadata": {},
   "outputs": [
    {
     "data": {
      "text/plain": [
       "(103, 5)"
      ]
     },
     "execution_count": 9,
     "metadata": {},
     "output_type": "execute_result"
    }
   ],
   "source": [
    "df.shape"
   ]
  },
  {
   "cell_type": "markdown",
   "metadata": {},
   "source": [
    "## Q3: Clustering"
   ]
  },
  {
   "cell_type": "markdown",
   "metadata": {},
   "source": [
    "My goal is to cluster Toronto Postal Codes by venue pricing from FourSquare."
   ]
  },
  {
   "cell_type": "code",
   "execution_count": 10,
   "metadata": {},
   "outputs": [],
   "source": [
    "tor_df = df[df['Borough'].str.contains(\"Toronto\")]"
   ]
  },
  {
   "cell_type": "code",
   "execution_count": 11,
   "metadata": {},
   "outputs": [
    {
     "data": {
      "text/html": [
       "<div>\n",
       "<style scoped>\n",
       "    .dataframe tbody tr th:only-of-type {\n",
       "        vertical-align: middle;\n",
       "    }\n",
       "\n",
       "    .dataframe tbody tr th {\n",
       "        vertical-align: top;\n",
       "    }\n",
       "\n",
       "    .dataframe thead th {\n",
       "        text-align: right;\n",
       "    }\n",
       "</style>\n",
       "<table border=\"1\" class=\"dataframe\">\n",
       "  <thead>\n",
       "    <tr style=\"text-align: right;\">\n",
       "      <th></th>\n",
       "      <th>PostalCode</th>\n",
       "      <th>Borough</th>\n",
       "      <th>Neighborhood</th>\n",
       "      <th>Latitude</th>\n",
       "      <th>Longitude</th>\n",
       "    </tr>\n",
       "  </thead>\n",
       "  <tbody>\n",
       "    <tr>\n",
       "      <th>37</th>\n",
       "      <td>M4E</td>\n",
       "      <td>East Toronto</td>\n",
       "      <td>The Beaches</td>\n",
       "      <td>43.676357</td>\n",
       "      <td>-79.293031</td>\n",
       "    </tr>\n",
       "    <tr>\n",
       "      <th>41</th>\n",
       "      <td>M4K</td>\n",
       "      <td>East Toronto</td>\n",
       "      <td>The Danforth West, Riverdale</td>\n",
       "      <td>43.679557</td>\n",
       "      <td>-79.352188</td>\n",
       "    </tr>\n",
       "    <tr>\n",
       "      <th>42</th>\n",
       "      <td>M4L</td>\n",
       "      <td>East Toronto</td>\n",
       "      <td>The Beaches West, India Bazaar</td>\n",
       "      <td>43.668999</td>\n",
       "      <td>-79.315572</td>\n",
       "    </tr>\n",
       "    <tr>\n",
       "      <th>43</th>\n",
       "      <td>M4M</td>\n",
       "      <td>East Toronto</td>\n",
       "      <td>Studio District</td>\n",
       "      <td>43.659526</td>\n",
       "      <td>-79.340923</td>\n",
       "    </tr>\n",
       "    <tr>\n",
       "      <th>44</th>\n",
       "      <td>M4N</td>\n",
       "      <td>Central Toronto</td>\n",
       "      <td>Lawrence Park</td>\n",
       "      <td>43.728020</td>\n",
       "      <td>-79.388790</td>\n",
       "    </tr>\n",
       "  </tbody>\n",
       "</table>\n",
       "</div>"
      ],
      "text/plain": [
       "   PostalCode          Borough                    Neighborhood   Latitude  \\\n",
       "37        M4E     East Toronto                     The Beaches  43.676357   \n",
       "41        M4K     East Toronto    The Danforth West, Riverdale  43.679557   \n",
       "42        M4L     East Toronto  The Beaches West, India Bazaar  43.668999   \n",
       "43        M4M     East Toronto                 Studio District  43.659526   \n",
       "44        M4N  Central Toronto                   Lawrence Park  43.728020   \n",
       "\n",
       "    Longitude  \n",
       "37 -79.293031  \n",
       "41 -79.352188  \n",
       "42 -79.315572  \n",
       "43 -79.340923  \n",
       "44 -79.388790  "
      ]
     },
     "execution_count": 11,
     "metadata": {},
     "output_type": "execute_result"
    }
   ],
   "source": [
    "tor_df.head()"
   ]
  },
  {
   "cell_type": "code",
   "execution_count": 12,
   "metadata": {},
   "outputs": [
    {
     "name": "stdout",
     "output_type": "stream",
     "text": [
      "The geograpical coordinate of Toronto are 43.653963, -79.387207.\n"
     ]
    }
   ],
   "source": [
    "address = 'Toronto, Canada'\n",
    "\n",
    "geolocator = Nominatim(user_agent=\"tor_explorer\")\n",
    "location = geolocator.geocode(address)\n",
    "latitude = location.latitude\n",
    "longitude = location.longitude\n",
    "print('The geograpical coordinate of Toronto are {}, {}.'.format(latitude, longitude))"
   ]
  },
  {
   "cell_type": "code",
   "execution_count": 13,
   "metadata": {},
   "outputs": [],
   "source": [
    "map_tor = folium.Map(location=[latitude, longitude], zoom_start=11)\n",
    "\n",
    "for lat, lng, borough, neighborhood in zip(tor_df['Latitude'], tor_df['Longitude'], tor_df['Borough'], tor_df['Neighborhood']):\n",
    "    label = '{}, {}'.format(neighborhood, borough)\n",
    "    label = folium.Popup(label, parse_html=True)\n",
    "    folium.CircleMarker(\n",
    "        [lat, lng],\n",
    "        radius=5,\n",
    "        popup=label,\n",
    "        color='blue',\n",
    "        fill=True,\n",
    "        fill_color='#3186cc',\n",
    "        fill_opacity=0.7,\n",
    "        parse_html=False).add_to(map_tor)  "
   ]
  },
  {
   "cell_type": "code",
   "execution_count": 14,
   "metadata": {},
   "outputs": [
    {
     "data": {
      "text/html": [
       "<div style=\"width:100%;\"><div style=\"position:relative;width:100%;height:0;padding-bottom:60%;\"><iframe src=\"data:text/html;charset=utf-8;base64,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\" style=\"position:absolute;width:100%;height:100%;left:0;top:0;border:none !important;\" allowfullscreen webkitallowfullscreen mozallowfullscreen></iframe></div></div>"
      ],
      "text/plain": [
       "<folium.folium.Map at 0x25aff074da0>"
      ]
     },
     "execution_count": 14,
     "metadata": {},
     "output_type": "execute_result"
    }
   ],
   "source": [
    "map_tor"
   ]
  },
  {
   "cell_type": "code",
   "execution_count": 15,
   "metadata": {},
   "outputs": [],
   "source": [
    "CLIENT_ID = 'VNBGQDHO2OBW0A4LRJJWRLKIFGQI3TF4P0JZMYZYT5TY0BZO'\n",
    "CLIENT_SECRET = 'FFKOMRBHEP324SVWUCZ03THCN5ZN3ULKAYRZNGBIUNF2XWOA'\n",
    "VERSION = '20180605'\n",
    "LIMIT = 500"
   ]
  },
  {
   "cell_type": "markdown",
   "metadata": {},
   "source": [
    "I will use the relative frequency of venues near each postal code with prices in the range from \\\\$ to \\\\$$$$ to cluster them"
   ]
  },
  {
   "cell_type": "code",
   "execution_count": 16,
   "metadata": {},
   "outputs": [],
   "source": [
    "names = tor_df['PostalCode']\n",
    "latitudes = tor_df['Latitude']\n",
    "longitudes = tor_df['Longitude']\n",
    "\n",
    "radius = 500\n",
    "postal_price_freq = []\n",
    "\n",
    "for name, lat, lng in zip(names, latitudes, longitudes):\n",
    "    \n",
    "    price_buckets = []\n",
    "\n",
    "    for price in range(1, 5):\n",
    "        url = 'https://api.foursquare.com/v2/venues/explore?&client_id={}&client_secret={}&v={}&ll={},{}&radius={}&price={}&limit={}'.format(\n",
    "            CLIENT_ID, \n",
    "            CLIENT_SECRET, \n",
    "            VERSION, \n",
    "            lat, \n",
    "            lng, \n",
    "            radius,\n",
    "            price,\n",
    "            LIMIT)\n",
    "\n",
    "        results = requests.get(url, verify=False).json()[\"response\"]['groups'][0]['items']\n",
    "\n",
    "        price_buckets.append(len(results))\n",
    "        \n",
    "    # Percentage frequency    \n",
    "    total = sum(price_buckets)\n",
    "    if total > 0:\n",
    "        temp = [i / total for i in price_buckets]\n",
    "        price_buckets = temp\n",
    "    \n",
    "    postal_price_freq.append([name] + price_buckets)\n"
   ]
  },
  {
   "cell_type": "code",
   "execution_count": 17,
   "metadata": {},
   "outputs": [
    {
     "data": {
      "text/html": [
       "<div>\n",
       "<style scoped>\n",
       "    .dataframe tbody tr th:only-of-type {\n",
       "        vertical-align: middle;\n",
       "    }\n",
       "\n",
       "    .dataframe tbody tr th {\n",
       "        vertical-align: top;\n",
       "    }\n",
       "\n",
       "    .dataframe thead th {\n",
       "        text-align: right;\n",
       "    }\n",
       "</style>\n",
       "<table border=\"1\" class=\"dataframe\">\n",
       "  <thead>\n",
       "    <tr style=\"text-align: right;\">\n",
       "      <th></th>\n",
       "      <th>PostalCode</th>\n",
       "      <th>Price1</th>\n",
       "      <th>Price2</th>\n",
       "      <th>Price3</th>\n",
       "      <th>Price4</th>\n",
       "    </tr>\n",
       "  </thead>\n",
       "  <tbody>\n",
       "    <tr>\n",
       "      <th>0</th>\n",
       "      <td>M4E</td>\n",
       "      <td>1.000000</td>\n",
       "      <td>0.000000</td>\n",
       "      <td>0.000000</td>\n",
       "      <td>0.0</td>\n",
       "    </tr>\n",
       "    <tr>\n",
       "      <th>1</th>\n",
       "      <td>M4K</td>\n",
       "      <td>0.419355</td>\n",
       "      <td>0.483871</td>\n",
       "      <td>0.096774</td>\n",
       "      <td>0.0</td>\n",
       "    </tr>\n",
       "    <tr>\n",
       "      <th>2</th>\n",
       "      <td>M4L</td>\n",
       "      <td>0.500000</td>\n",
       "      <td>0.500000</td>\n",
       "      <td>0.000000</td>\n",
       "      <td>0.0</td>\n",
       "    </tr>\n",
       "    <tr>\n",
       "      <th>3</th>\n",
       "      <td>M4M</td>\n",
       "      <td>0.320000</td>\n",
       "      <td>0.560000</td>\n",
       "      <td>0.120000</td>\n",
       "      <td>0.0</td>\n",
       "    </tr>\n",
       "    <tr>\n",
       "      <th>4</th>\n",
       "      <td>M4N</td>\n",
       "      <td>0.000000</td>\n",
       "      <td>0.000000</td>\n",
       "      <td>0.000000</td>\n",
       "      <td>0.0</td>\n",
       "    </tr>\n",
       "  </tbody>\n",
       "</table>\n",
       "</div>"
      ],
      "text/plain": [
       "  PostalCode    Price1    Price2    Price3  Price4\n",
       "0        M4E  1.000000  0.000000  0.000000     0.0\n",
       "1        M4K  0.419355  0.483871  0.096774     0.0\n",
       "2        M4L  0.500000  0.500000  0.000000     0.0\n",
       "3        M4M  0.320000  0.560000  0.120000     0.0\n",
       "4        M4N  0.000000  0.000000  0.000000     0.0"
      ]
     },
     "execution_count": 17,
     "metadata": {},
     "output_type": "execute_result"
    }
   ],
   "source": [
    "price_freq_df = pd.DataFrame(postal_price_freq)\n",
    "price_freq_df.columns = ['PostalCode', 'Price1', 'Price2', 'Price3', 'Price4']\n",
    "price_freq_df.head()"
   ]
  },
  {
   "cell_type": "code",
   "execution_count": 18,
   "metadata": {},
   "outputs": [
    {
     "data": {
      "text/plain": [
       "array([3, 0, 1, 0, 2, 1, 1, 1, 4, 1])"
      ]
     },
     "execution_count": 18,
     "metadata": {},
     "output_type": "execute_result"
    }
   ],
   "source": [
    "# set number of clusters\n",
    "kclusters = 5\n",
    "\n",
    "tor_clustering = price_freq_df.drop('PostalCode', 1)\n",
    "\n",
    "# run k-means clustering\n",
    "kmeans = KMeans(n_clusters=kclusters, random_state=0).fit(tor_clustering)\n",
    "\n",
    "# check cluster labels generated for each row in the dataframe\n",
    "kmeans.labels_[0:10] "
   ]
  },
  {
   "cell_type": "code",
   "execution_count": 19,
   "metadata": {},
   "outputs": [],
   "source": [
    "price_freq_df.insert(0, 'Cluster Labels', kmeans.labels_)\n",
    "tor_df = tor_df.merge(price_freq_df, on='PostalCode')"
   ]
  },
  {
   "cell_type": "markdown",
   "metadata": {},
   "source": [
    "This map should show Toronto postal codes clustered by venue pricing "
   ]
  },
  {
   "cell_type": "code",
   "execution_count": 20,
   "metadata": {},
   "outputs": [
    {
     "data": {
      "text/html": [
       "<div style=\"width:100%;\"><div style=\"position:relative;width:100%;height:0;padding-bottom:60%;\"><iframe src=\"data:text/html;charset=utf-8;base64,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\" style=\"position:absolute;width:100%;height:100%;left:0;top:0;border:none !important;\" allowfullscreen webkitallowfullscreen mozallowfullscreen></iframe></div></div>"
      ],
      "text/plain": [
       "<folium.folium.Map at 0x25aff0fc518>"
      ]
     },
     "execution_count": 20,
     "metadata": {},
     "output_type": "execute_result"
    }
   ],
   "source": [
    "map_clusters = folium.Map(location=[latitude, longitude], zoom_start=11)\n",
    "\n",
    "# set color scheme for the clusters\n",
    "x = np.arange(kclusters)\n",
    "ys = [i + x + (i*x)**2 for i in range(kclusters)]\n",
    "colors_array = cm.rainbow(np.linspace(0, 1, len(ys)))\n",
    "rainbow = [colors.rgb2hex(i) for i in colors_array]\n",
    "\n",
    "# add markers to the map\n",
    "markers_colors = []\n",
    "for lat, lon, poi, cluster in zip(tor_df['Latitude'], tor_df['Longitude'], tor_df['Neighborhood'], tor_df['Cluster Labels']):\n",
    "    label = folium.Popup(str(poi) + ' Cluster ' + str(cluster), parse_html=True)\n",
    "    folium.CircleMarker(\n",
    "        [lat, lon],\n",
    "        radius=5,\n",
    "        popup=label,\n",
    "        color=rainbow[cluster-1],\n",
    "        fill=True,\n",
    "        fill_color=rainbow[cluster-1],\n",
    "        fill_opacity=0.7).add_to(map_clusters)\n",
    "       \n",
    "map_clusters"
   ]
  },
  {
   "cell_type": "code",
   "execution_count": null,
   "metadata": {},
   "outputs": [],
   "source": []
  }
 ],
 "metadata": {
  "kernelspec": {
   "display_name": "Python 3",
   "language": "python",
   "name": "python3"
  },
  "language_info": {
   "codemirror_mode": {
    "name": "ipython",
    "version": 3
   },
   "file_extension": ".py",
   "mimetype": "text/x-python",
   "name": "python",
   "nbconvert_exporter": "python",
   "pygments_lexer": "ipython3",
   "version": "3.7.3"
  }
 },
 "nbformat": 4,
 "nbformat_minor": 2
}
